{
 "cells": [
  {
   "cell_type": "markdown",
   "metadata": {},
   "source": [
    "# Question 1 :\n",
    "Write a Python program to find the first 20 non-even prime natural numbers."
   ]
  },
  {
   "cell_type": "code",
   "execution_count": 2,
   "metadata": {},
   "outputs": [
    {
     "name": "stdout",
     "output_type": "stream",
     "text": [
      "3 5 7 11 13 17 19 23 29 31 37 41 43 47 53 59 61 67 71 73 "
     ]
    }
   ],
   "source": [
    "import sympy as s\n",
    "a = 0\n",
    "for i in range(3,200):\n",
    "    if s.isprime(i):\n",
    "        print(i,end=' ')\n",
    "        a=a+1\n",
    "    if a==20:\n",
    "        break"
   ]
  },
  {
   "cell_type": "markdown",
   "metadata": {},
   "source": [
    "# Question 2 :\n",
    "Write a Python program to implement 15 functions of string."
   ]
  },
  {
   "cell_type": "code",
   "execution_count": 3,
   "metadata": {},
   "outputs": [
    {
     "name": "stdout",
     "output_type": "stream",
     "text": [
      "<class 'str'>\n",
      "1.  meghna\n",
      "2.  MEGHNA\n",
      "3.  MEGHNA\n",
      "4.  meghna\n",
      "5.  1\n",
      "6.  False\n",
      "7.  0\n",
      "8.  False\n",
      "9.  True\n",
      "10.  0\n",
      "11.  **meghna**\n",
      "12.  False\n",
      "13.  True\n",
      "14.  False\n",
      "15.  False\n"
     ]
    }
   ],
   "source": [
    "n = 'meghna'\n",
    "print(type(n))\n",
    "print('1. ',n.lower())\n",
    "print('2. ',n.swapcase())\n",
    "print('3. ',n.upper())\n",
    "print('4. ',n.casefold())\n",
    "print('5. ',n.count('m'))\n",
    "print('6. ',n.endswith('m'))\n",
    "print('7. ',n.find('m'))\n",
    "print('8. ',n.isupper())\n",
    "print('9. ',n.isalpha())\n",
    "print('10. ',n.index('m'))\n",
    "print('11. ',n.center(10,'*'))\n",
    "print('12. ',n.startswith('x'))\n",
    "print('13. ', n.isalnum())\n",
    "print('14. ', n.isupper())\n",
    "print('15. ', n.istitle())\n"
   ]
  },
  {
   "cell_type": "markdown",
   "metadata": {},
   "source": [
    "# Question 3:\n",
    "Write a Python program to check if the given string is a Palindrome or Anagram or None of them. Display the message accordingly to the user."
   ]
  },
  {
   "cell_type": "code",
   "execution_count": 4,
   "metadata": {},
   "outputs": [
    {
     "name": "stdout",
     "output_type": "stream",
     "text": [
      "Please enter the first word: yes\n",
      "Please enter the second word: yes\n",
      "It is an anagram\n"
     ]
    }
   ],
   "source": [
    "a = input('Please enter the first word: ')\n",
    "b = input('Please enter the second word: ')\n",
    "\n",
    "if a == b[::-1]:\n",
    "    print('It is a palindrome')\n",
    "elif sorted(a) == sorted(b):\n",
    "    print('It is an anagram')\n",
    "else:\n",
    "    print('It is neither a palindrome nor an anagram' )"
   ]
  },
  {
   "cell_type": "markdown",
   "metadata": {},
   "source": [
    "# Question 4:\n",
    "Write a Python's user defined function that removes all the additional characters from the string and converts it finally to lower case using built-in lower(). eg: If the string is \"Dr. Darshan Ingle @AI-ML Trainer\", then the output be \"drdarshaningleaimltrainer\"."
   ]
  },
  {
   "cell_type": "code",
   "execution_count": 7,
   "metadata": {},
   "outputs": [],
   "source": [
    "def lower_string():\n",
    "    a = input('Please give a string: ')\n",
    "    a = a.lower()\n",
    "    for i in a:\n",
    "        if ord(i)>64 and ord(i)<123:\n",
    "            print(i,end='')"
   ]
  },
  {
   "cell_type": "code",
   "execution_count": 9,
   "metadata": {},
   "outputs": [
    {
     "name": "stdout",
     "output_type": "stream",
     "text": [
      "Please give a string: yeaW2123!!23\n",
      "yeaw"
     ]
    }
   ],
   "source": [
    "lower_string()"
   ]
  },
  {
   "cell_type": "code",
   "execution_count": null,
   "metadata": {},
   "outputs": [],
   "source": []
  }
 ],
 "metadata": {
  "kernelspec": {
   "display_name": "Python 3",
   "language": "python",
   "name": "python3"
  },
  "language_info": {
   "codemirror_mode": {
    "name": "ipython",
    "version": 3
   },
   "file_extension": ".py",
   "mimetype": "text/x-python",
   "name": "python",
   "nbconvert_exporter": "python",
   "pygments_lexer": "ipython3",
   "version": "3.7.6"
  }
 },
 "nbformat": 4,
 "nbformat_minor": 4
}
